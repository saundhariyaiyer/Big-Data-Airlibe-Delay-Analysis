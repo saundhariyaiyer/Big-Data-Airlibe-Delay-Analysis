{
  "metadata": {
    "kernelspec": {
      "language": "python",
      "display_name": "Python 3",
      "name": "python3"
    },
    "language_info": {
      "pygments_lexer": "ipython3",
      "nbconvert_exporter": "python",
      "version": "3.6.4",
      "file_extension": ".py",
      "codemirror_mode": {
        "name": "ipython",
        "version": 3
      },
      "name": "python",
      "mimetype": "text/x-python"
    },
    "colab": {
      "provenance": []
    }
  },
  "nbformat_minor": 0,
  "nbformat": 4,
  "cells": [
    {
      "cell_type": "markdown",
      "source": [
        "###Importing Packages"
      ],
      "metadata": {
        "id": "ECWS0vSiLZes"
      }
    },
    {
      "cell_type": "code",
      "source": [
        "import numpy as np \n",
        "import pandas as pd \n",
        "data_paths = {}\n",
        "import os\n",
        "for dirname, _, filenames in os.walk('/kaggle/input'):\n",
        "    for filename in filenames:\n",
        "        data_paths[filename] = os.path.join(dirname, filename)\n",
        "        print(os.path.join(dirname, filename))"
      ],
      "metadata": {
        "_uuid": "8f2839f25d086af736a60e9eeb907d3b93b6e0e5",
        "_cell_guid": "b1076dfc-b9ad-4769-8c92-a6c4dae69d19",
        "execution": {
          "iopub.status.busy": "2022-04-27T13:32:06.607865Z",
          "iopub.execute_input": "2022-04-27T13:32:06.60823Z",
          "iopub.status.idle": "2022-04-27T13:32:07.156469Z",
          "shell.execute_reply.started": "2022-04-27T13:32:06.608174Z",
          "shell.execute_reply": "2022-04-27T13:32:07.155577Z"
        },
        "trusted": true,
        "id": "xGAL_PZ2qH2M"
      },
      "execution_count": 1,
      "outputs": []
    },
    {
      "cell_type": "markdown",
      "source": [
        "### Installing Pyspark"
      ],
      "metadata": {
        "id": "SxtkoMTJqH2R"
      }
    },
    {
      "cell_type": "code",
      "source": [
        "!pip install pyspark"
      ],
      "metadata": {
        "_uuid": "d629ff2d2480ee46fbb7e2d37f6b5fab8052498a",
        "_cell_guid": "79c7e3d0-c299-4dcb-8224-4455121ee9b0",
        "execution": {
          "iopub.status.busy": "2022-04-27T13:32:10.311792Z",
          "iopub.execute_input": "2022-04-27T13:32:10.312098Z",
          "iopub.status.idle": "2022-04-27T13:32:57.526122Z",
          "shell.execute_reply.started": "2022-04-27T13:32:10.312047Z",
          "shell.execute_reply": "2022-04-27T13:32:57.525137Z"
        },
        "trusted": true,
        "colab": {
          "base_uri": "https://localhost:8080/"
        },
        "id": "tRWzuavYqH2T",
        "outputId": "540e71ac-72a2-4e03-b587-cf2d00fd9898"
      },
      "execution_count": 2,
      "outputs": [
        {
          "output_type": "stream",
          "name": "stdout",
          "text": [
            "Looking in indexes: https://pypi.org/simple, https://us-python.pkg.dev/colab-wheels/public/simple/\n",
            "Requirement already satisfied: pyspark in /usr/local/lib/python3.9/dist-packages (3.3.2)\n",
            "Requirement already satisfied: py4j==0.10.9.5 in /usr/local/lib/python3.9/dist-packages (from pyspark) (0.10.9.5)\n"
          ]
        }
      ]
    },
    {
      "cell_type": "markdown",
      "source": [
        "### Using Spark in Python"
      ],
      "metadata": {
        "id": "iYK2T9ytqH2T"
      }
    },
    {
      "cell_type": "code",
      "source": [
        "from pyspark import SparkContext, SparkConf\n",
        "sc = SparkContext('local')\n",
        "print(sc.version)"
      ],
      "metadata": {
        "execution": {
          "iopub.status.busy": "2022-04-27T13:32:57.528997Z",
          "iopub.execute_input": "2022-04-27T13:32:57.529627Z",
          "iopub.status.idle": "2022-04-27T13:33:02.346051Z",
          "shell.execute_reply.started": "2022-04-27T13:32:57.529574Z",
          "shell.execute_reply": "2022-04-27T13:33:02.34501Z"
        },
        "trusted": true,
        "colab": {
          "base_uri": "https://localhost:8080/"
        },
        "id": "KXEwszOvqH2U",
        "outputId": "812d0231-8cb0-414c-f47c-2c822e443c5c"
      },
      "execution_count": 3,
      "outputs": [
        {
          "output_type": "stream",
          "name": "stdout",
          "text": [
            "3.3.2\n"
          ]
        }
      ]
    },
    {
      "cell_type": "markdown",
      "source": [
        "### Using Spark DataFrames"
      ],
      "metadata": {
        "id": "zIxB2jojqH2U"
      }
    },
    {
      "cell_type": "code",
      "source": [
        "from pyspark.sql import SparkSession\n",
        "spark = SparkSession.builder.getOrCreate()\n",
        "print(spark)"
      ],
      "metadata": {
        "execution": {
          "iopub.status.busy": "2022-04-27T13:33:02.348541Z",
          "iopub.execute_input": "2022-04-27T13:33:02.349092Z",
          "iopub.status.idle": "2022-04-27T13:33:02.582036Z",
          "shell.execute_reply.started": "2022-04-27T13:33:02.349038Z",
          "shell.execute_reply": "2022-04-27T13:33:02.581111Z"
        },
        "trusted": true,
        "colab": {
          "base_uri": "https://localhost:8080/"
        },
        "id": "_ZE1om92qH2V",
        "outputId": "3b78fccf-3f42-45f1-e81e-1b60a96cb8b3"
      },
      "execution_count": 4,
      "outputs": [
        {
          "output_type": "stream",
          "name": "stdout",
          "text": [
            "<pyspark.sql.session.SparkSession object at 0x7f76005d3580>\n"
          ]
        }
      ]
    },
    {
      "cell_type": "markdown",
      "source": [
        "### Viewing tables"
      ],
      "metadata": {
        "id": "UCCBAnAnqH2V"
      }
    },
    {
      "cell_type": "code",
      "source": [
        "print(spark.catalog.listTables())"
      ],
      "metadata": {
        "execution": {
          "iopub.status.busy": "2022-04-27T13:33:02.583211Z",
          "iopub.execute_input": "2022-04-27T13:33:02.583506Z",
          "iopub.status.idle": "2022-04-27T13:33:07.278957Z",
          "shell.execute_reply.started": "2022-04-27T13:33:02.583458Z",
          "shell.execute_reply": "2022-04-27T13:33:07.277687Z"
        },
        "trusted": true,
        "colab": {
          "base_uri": "https://localhost:8080/"
        },
        "id": "hd5zFNsWqH2W",
        "outputId": "21b3a1d1-23b8-42a7-ea44-c177dbab7239"
      },
      "execution_count": 5,
      "outputs": [
        {
          "output_type": "stream",
          "name": "stdout",
          "text": [
            "[]\n"
          ]
        }
      ]
    },
    {
      "cell_type": "markdown",
      "source": [
        "Spark"
      ],
      "metadata": {
        "id": "nR1gDBMXsLsO"
      }
    },
    {
      "cell_type": "code",
      "source": [
        "pd_temp = pd.DataFrame(np.random.random(10))\n",
        "\n",
        "spark_temp = spark.createDataFrame(pd_temp)\n",
        "\n",
        "print(spark.catalog.listTables())\n",
        "\n",
        "spark_temp.createOrReplaceTempView('temp')\n",
        "\n",
        "print(spark.catalog.listTables())"
      ],
      "metadata": {
        "execution": {
          "iopub.status.busy": "2022-04-27T13:33:07.281974Z",
          "iopub.execute_input": "2022-04-27T13:33:07.282575Z",
          "iopub.status.idle": "2022-04-27T13:33:09.960448Z",
          "shell.execute_reply.started": "2022-04-27T13:33:07.282523Z",
          "shell.execute_reply": "2022-04-27T13:33:09.959566Z"
        },
        "trusted": true,
        "colab": {
          "base_uri": "https://localhost:8080/"
        },
        "id": "7j4LgXveqH2W",
        "outputId": "af3944bd-646c-4eb1-abec-afbad5a6e5e9"
      },
      "execution_count": 6,
      "outputs": [
        {
          "output_type": "stream",
          "name": "stdout",
          "text": [
            "[]\n",
            "[Table(name='temp', database=None, description=None, tableType='TEMPORARY', isTemporary=True)]\n"
          ]
        }
      ]
    },
    {
      "cell_type": "code",
      "source": [
        "airports = spark.read.csv('airports.csv', header = True)\n",
        "\n",
        "airports.show(10)"
      ],
      "metadata": {
        "execution": {
          "iopub.status.busy": "2022-04-27T13:33:09.963363Z",
          "iopub.execute_input": "2022-04-27T13:33:09.963886Z",
          "iopub.status.idle": "2022-04-27T13:33:11.324067Z",
          "shell.execute_reply.started": "2022-04-27T13:33:09.963834Z",
          "shell.execute_reply": "2022-04-27T13:33:11.323149Z"
        },
        "trusted": true,
        "colab": {
          "base_uri": "https://localhost:8080/"
        },
        "id": "MCoLibfIqH2X",
        "outputId": "0ca5a7ec-27f5-4e3b-9f00-f15951af5211"
      },
      "execution_count": 7,
      "outputs": [
        {
          "output_type": "stream",
          "name": "stdout",
          "text": [
            "+---------+--------------------+-------------+-----+-------+--------+----------+\n",
            "|IATA_CODE|             AIRPORT|         CITY|STATE|COUNTRY|LATITUDE| LONGITUDE|\n",
            "+---------+--------------------+-------------+-----+-------+--------+----------+\n",
            "|      ABE|Lehigh Valley Int...|    Allentown|   PA|    USA|40.65236| -75.44040|\n",
            "|      ABI|Abilene Regional ...|      Abilene|   TX|    USA|32.41132| -99.68190|\n",
            "|      ABQ|Albuquerque Inter...|  Albuquerque|   NM|    USA|35.04022|-106.60919|\n",
            "|      ABR|Aberdeen Regional...|     Aberdeen|   SD|    USA|45.44906| -98.42183|\n",
            "|      ABY|Southwest Georgia...|       Albany|   GA|    USA|31.53552| -84.19447|\n",
            "|      ACK|Nantucket Memoria...|    Nantucket|   MA|    USA|41.25305| -70.06018|\n",
            "|      ACT|Waco Regional Air...|         Waco|   TX|    USA|31.61129| -97.23052|\n",
            "|      ACV|      Arcata Airport|Arcata/Eureka|   CA|    USA|40.97812|-124.10862|\n",
            "|      ACY|Atlantic City Int...|Atlantic City|   NJ|    USA|39.45758| -74.57717|\n",
            "|      ADK|        Adak Airport|         Adak|   AK|    USA|51.87796|-176.64603|\n",
            "+---------+--------------------+-------------+-----+-------+--------+----------+\n",
            "only showing top 10 rows\n",
            "\n"
          ]
        }
      ]
    },
    {
      "cell_type": "code",
      "source": [
        "flights = spark.read.csv('flights.csv', header = True)\n",
        "\n",
        "print((flights.count(), len(flights.columns)))\n",
        "\n",
        "print(spark.catalog.listTables())\n",
        "\n",
        "flights.createOrReplaceTempView('flights')\n",
        "\n",
        "print(spark.catalog.listTables())"
      ],
      "metadata": {
        "execution": {
          "iopub.status.busy": "2022-04-27T13:33:11.325611Z",
          "iopub.execute_input": "2022-04-27T13:33:11.325897Z",
          "iopub.status.idle": "2022-04-27T13:33:20.93653Z",
          "shell.execute_reply.started": "2022-04-27T13:33:11.325848Z",
          "shell.execute_reply": "2022-04-27T13:33:20.935624Z"
        },
        "trusted": true,
        "colab": {
          "base_uri": "https://localhost:8080/"
        },
        "id": "TzZVXQC9qH2X",
        "outputId": "a0288a77-75cc-4632-ce86-069e1ebe26b1"
      },
      "execution_count": 8,
      "outputs": [
        {
          "output_type": "stream",
          "name": "stdout",
          "text": [
            "(738906, 31)\n",
            "[Table(name='temp', database=None, description=None, tableType='TEMPORARY', isTemporary=True)]\n",
            "[Table(name='flights', database=None, description=None, tableType='TEMPORARY', isTemporary=True), Table(name='temp', database=None, description=None, tableType='TEMPORARY', isTemporary=True)]\n"
          ]
        }
      ]
    },
    {
      "cell_type": "code",
      "source": [
        "print(flights.columns)"
      ],
      "metadata": {
        "execution": {
          "iopub.status.busy": "2022-04-27T13:33:20.940042Z",
          "iopub.execute_input": "2022-04-27T13:33:20.940286Z",
          "iopub.status.idle": "2022-04-27T13:33:20.946467Z",
          "shell.execute_reply.started": "2022-04-27T13:33:20.940239Z",
          "shell.execute_reply": "2022-04-27T13:33:20.945479Z"
        },
        "trusted": true,
        "colab": {
          "base_uri": "https://localhost:8080/"
        },
        "id": "euep_1zwqH2X",
        "outputId": "7badd8b2-e345-4d50-91bb-c971e8da634d"
      },
      "execution_count": 9,
      "outputs": [
        {
          "output_type": "stream",
          "name": "stdout",
          "text": [
            "['YEAR', 'MONTH', 'DAY', 'DAY_OF_WEEK', 'AIRLINE', 'FLIGHT_NUMBER', 'TAIL_NUMBER', 'ORIGIN_AIRPORT', 'DESTINATION_AIRPORT', 'SCHEDULED_DEPARTURE', 'DEPARTURE_TIME', 'DEPARTURE_DELAY', 'TAXI_OUT', 'WHEELS_OFF', 'SCHEDULED_TIME', 'ELAPSED_TIME', 'AIR_TIME', 'DISTANCE', 'WHEELS_ON', 'TAXI_IN', 'SCHEDULED_ARRIVAL', 'ARRIVAL_TIME', 'ARRIVAL_DELAY', 'DIVERTED', 'CANCELLED', 'CANCELLATION_REASON', 'AIR_SYSTEM_DELAY', 'SECURITY_DELAY', 'AIRLINE_DELAY', 'LATE_AIRCRAFT_DELAY', 'WEATHER_DELAY']\n"
          ]
        }
      ]
    },
    {
      "cell_type": "code",
      "source": [
        "query = \"SELECT AIRLINE, FLIGHT_NUMBER, TAIL_NUMBER, ORIGIN_AIRPORT, DESTINATION_AIRPORT, SCHEDULED_DEPARTURE FROM flights LIMIT 5\"\n",
        "\n",
        "flights5 = spark.sql(query)\n",
        "\n",
        "flights5.show()"
      ],
      "metadata": {
        "execution": {
          "iopub.status.busy": "2022-04-27T13:33:20.948435Z",
          "iopub.execute_input": "2022-04-27T13:33:20.948932Z",
          "iopub.status.idle": "2022-04-27T13:33:21.232722Z",
          "shell.execute_reply.started": "2022-04-27T13:33:20.948836Z",
          "shell.execute_reply": "2022-04-27T13:33:21.231678Z"
        },
        "trusted": true,
        "colab": {
          "base_uri": "https://localhost:8080/"
        },
        "id": "-cigwYvhqH2X",
        "outputId": "bc3d6466-226d-4173-fa5b-732943ad7481"
      },
      "execution_count": 10,
      "outputs": [
        {
          "output_type": "stream",
          "name": "stdout",
          "text": [
            "+-------+-------------+-----------+--------------+-------------------+-------------------+\n",
            "|AIRLINE|FLIGHT_NUMBER|TAIL_NUMBER|ORIGIN_AIRPORT|DESTINATION_AIRPORT|SCHEDULED_DEPARTURE|\n",
            "+-------+-------------+-----------+--------------+-------------------+-------------------+\n",
            "|     AS|           98|     N407AS|           ANC|                SEA|               0005|\n",
            "|     AA|         2336|     N3KUAA|           LAX|                PBI|               0010|\n",
            "|     US|          840|     N171US|           SFO|                CLT|               0020|\n",
            "|     AA|          258|     N3HYAA|           LAX|                MIA|               0020|\n",
            "|     AS|          135|     N527AS|           SEA|                ANC|               0025|\n",
            "+-------+-------------+-----------+--------------+-------------------+-------------------+\n",
            "\n"
          ]
        }
      ]
    },
    {
      "cell_type": "code",
      "source": [
        "query = \"SELECT ORIGIN_AIRPORT, DESTINATION_AIRPORT, COUNT(*) as N FROM flights GROUP BY ORIGIN_AIRPORT, DESTINATION_AIRPORT\"\n",
        "\n",
        "flight_counts = spark.sql(query)\n",
        "\n",
        "pd_counts = flight_counts.toPandas()\n",
        "\n",
        "print(pd_counts.head())"
      ],
      "metadata": {
        "execution": {
          "iopub.status.busy": "2022-04-27T13:33:21.234006Z",
          "iopub.execute_input": "2022-04-27T13:33:21.234339Z",
          "iopub.status.idle": "2022-04-27T13:33:36.675509Z",
          "shell.execute_reply.started": "2022-04-27T13:33:21.234258Z",
          "shell.execute_reply": "2022-04-27T13:33:36.674539Z"
        },
        "trusted": true,
        "colab": {
          "base_uri": "https://localhost:8080/"
        },
        "id": "CpuwOlshqH2Y",
        "outputId": "cb81f9ac-32a2-4442-b6e9-7c6404ecd7ae"
      },
      "execution_count": 11,
      "outputs": [
        {
          "output_type": "stream",
          "name": "stdout",
          "text": [
            "  ORIGIN_AIRPORT DESTINATION_AIRPORT    N\n",
            "0            BQN                 MCO   61\n",
            "1            PHL                 MCO  685\n",
            "2            MCI                 IAH  226\n",
            "3            SPI                 ORD  146\n",
            "4            SNA                 PHX  555\n"
          ]
        }
      ]
    },
    {
      "cell_type": "markdown",
      "source": [
        "### Creating columns"
      ],
      "metadata": {
        "id": "WYa7cnubqH2Y"
      }
    },
    {
      "cell_type": "code",
      "source": [
        "flights = spark.table(\"flights\")\n",
        "\n",
        "flights = flights.withColumn('duration_hrs', flights.AIR_TIME/60.)\n",
        "\n",
        "flights.select('duration_hrs').show(10)"
      ],
      "metadata": {
        "execution": {
          "iopub.status.busy": "2022-04-27T13:33:36.680335Z",
          "iopub.execute_input": "2022-04-27T13:33:36.683184Z",
          "iopub.status.idle": "2022-04-27T13:33:37.042131Z",
          "shell.execute_reply.started": "2022-04-27T13:33:36.683121Z",
          "shell.execute_reply": "2022-04-27T13:33:37.040279Z"
        },
        "trusted": true,
        "colab": {
          "base_uri": "https://localhost:8080/"
        },
        "id": "ZXeVrQK5qH2Y",
        "outputId": "9b31a07d-2ce0-4259-a7b2-76b1a395f7fc"
      },
      "execution_count": 12,
      "outputs": [
        {
          "output_type": "stream",
          "name": "stdout",
          "text": [
            "+------------------+\n",
            "|      duration_hrs|\n",
            "+------------------+\n",
            "| 2.816666666666667|\n",
            "| 4.383333333333334|\n",
            "| 4.433333333333334|\n",
            "|               4.3|\n",
            "| 3.316666666666667|\n",
            "| 3.433333333333333|\n",
            "| 2.566666666666667|\n",
            "|               3.8|\n",
            "|2.8833333333333333|\n",
            "|               3.1|\n",
            "+------------------+\n",
            "only showing top 10 rows\n",
            "\n"
          ]
        }
      ]
    },
    {
      "cell_type": "markdown",
      "source": [
        "### SQL"
      ],
      "metadata": {
        "id": "CX9IWsQqqH2Y"
      }
    },
    {
      "cell_type": "code",
      "source": [
        "long_flights1 = flights.filter(\"DISTANCE > 1000\")\n",
        "\n",
        "long_flights2 = flights.filter(flights.DISTANCE > 1000)"
      ],
      "metadata": {
        "execution": {
          "iopub.status.busy": "2022-04-27T13:33:37.044014Z",
          "iopub.execute_input": "2022-04-27T13:33:37.045529Z",
          "iopub.status.idle": "2022-04-27T13:33:37.107366Z",
          "shell.execute_reply.started": "2022-04-27T13:33:37.044307Z",
          "shell.execute_reply": "2022-04-27T13:33:37.106355Z"
        },
        "trusted": true,
        "id": "DlDToKBSqH2Y"
      },
      "execution_count": 13,
      "outputs": []
    },
    {
      "cell_type": "code",
      "source": [
        "selected1 = flights.select('TAIL_NUMBER', 'ORIGIN_AIRPORT', 'DESTINATION_AIRPORT',)\n",
        "\n",
        "temp = flights.select(flights.ORIGIN_AIRPORT, flights.DESTINATION_AIRPORT, flights.AIRLINE)\n",
        "\n",
        "temp.show()"
      ],
      "metadata": {
        "execution": {
          "iopub.status.busy": "2022-04-27T13:33:37.111927Z",
          "iopub.execute_input": "2022-04-27T13:33:37.113476Z",
          "iopub.status.idle": "2022-04-27T13:33:37.361896Z",
          "shell.execute_reply.started": "2022-04-27T13:33:37.113083Z",
          "shell.execute_reply": "2022-04-27T13:33:37.36088Z"
        },
        "trusted": true,
        "colab": {
          "base_uri": "https://localhost:8080/"
        },
        "id": "Ez3RwkrEqH2Z",
        "outputId": "54b70bba-59eb-46d5-9e6d-2f4962113bf3"
      },
      "execution_count": 14,
      "outputs": [
        {
          "output_type": "stream",
          "name": "stdout",
          "text": [
            "+--------------+-------------------+-------+\n",
            "|ORIGIN_AIRPORT|DESTINATION_AIRPORT|AIRLINE|\n",
            "+--------------+-------------------+-------+\n",
            "|           ANC|                SEA|     AS|\n",
            "|           LAX|                PBI|     AA|\n",
            "|           SFO|                CLT|     US|\n",
            "|           LAX|                MIA|     AA|\n",
            "|           SEA|                ANC|     AS|\n",
            "|           SFO|                MSP|     DL|\n",
            "|           LAS|                MSP|     NK|\n",
            "|           LAX|                CLT|     US|\n",
            "|           SFO|                DFW|     AA|\n",
            "|           LAS|                ATL|     DL|\n",
            "|           DEN|                ATL|     DL|\n",
            "|           LAS|                MIA|     AA|\n",
            "|           LAX|                MSP|     DL|\n",
            "|           SLC|                ATL|     DL|\n",
            "|           SEA|                MSP|     DL|\n",
            "|           ANC|                SEA|     AS|\n",
            "|           ANC|                SEA|     DL|\n",
            "|           SFO|                IAH|     UA|\n",
            "|           ANC|                PDX|     AS|\n",
            "|           PDX|                MSP|     DL|\n",
            "+--------------+-------------------+-------+\n",
            "only showing top 20 rows\n",
            "\n"
          ]
        }
      ]
    },
    {
      "cell_type": "code",
      "source": [
        "filterA = flights.ORIGIN_AIRPORT == \"SEA\"\n",
        "\n",
        "filterB = flights.DESTINATION_AIRPORT == \"PDX\"\n",
        "\n",
        "selected2 = temp.filter(filterA).filter(filterB)"
      ],
      "metadata": {
        "execution": {
          "iopub.status.busy": "2022-04-27T13:33:37.366392Z",
          "iopub.execute_input": "2022-04-27T13:33:37.366833Z",
          "iopub.status.idle": "2022-04-27T13:33:37.395777Z",
          "shell.execute_reply.started": "2022-04-27T13:33:37.366656Z",
          "shell.execute_reply": "2022-04-27T13:33:37.39477Z"
        },
        "trusted": true,
        "id": "5mzAKMTNqH2Z"
      },
      "execution_count": 15,
      "outputs": []
    },
    {
      "cell_type": "code",
      "source": [
        "avg_speed = (flights.DISTANCE/(flights.AIR_TIME/60)).alias(\"avg_speed\")\n",
        "\n",
        "speed1 = flights.select('TAIL_NUMBER', 'ORIGIN_AIRPORT', 'DESTINATION_AIRPORT', avg_speed)\n",
        "\n",
        "speed2 = flights.selectExpr('TAIL_NUMBER', 'ORIGIN_AIRPORT', 'DESTINATION_AIRPORT', \"DISTANCE/(AIR_TIME/60) as avg_speed\")"
      ],
      "metadata": {
        "execution": {
          "iopub.status.busy": "2022-04-27T13:33:37.397131Z",
          "iopub.execute_input": "2022-04-27T13:33:37.397597Z",
          "iopub.status.idle": "2022-04-27T13:33:37.4872Z",
          "shell.execute_reply.started": "2022-04-27T13:33:37.397533Z",
          "shell.execute_reply": "2022-04-27T13:33:37.486004Z"
        },
        "trusted": true,
        "id": "et0sNQPaqH2Z"
      },
      "execution_count": 16,
      "outputs": []
    },
    {
      "cell_type": "code",
      "source": [
        "flights = flights.withColumn(\"MONTH\", flights.MONTH.cast(\"integer\"))\n",
        "flights = flights.withColumn(\"DAY_OF_WEEK\", flights.DAY_OF_WEEK.cast(\"integer\"))\n",
        "flights = flights.withColumn(\"AIR_TIME\", flights.AIR_TIME.cast(\"integer\"))\n",
        "flights = flights.withColumn(\"DISTANCE\", flights.DISTANCE.cast(\"double\"))\n",
        "flights = flights.withColumn(\"ARRIVAL_DELAY\", flights.ARRIVAL_DELAY.cast(\"integer\"))"
      ],
      "metadata": {
        "execution": {
          "iopub.status.busy": "2022-04-27T13:33:37.488646Z",
          "iopub.execute_input": "2022-04-27T13:33:37.489117Z",
          "iopub.status.idle": "2022-04-27T13:33:37.620195Z",
          "shell.execute_reply.started": "2022-04-27T13:33:37.489025Z",
          "shell.execute_reply": "2022-04-27T13:33:37.619113Z"
        },
        "trusted": true,
        "id": "8dG_wAcqqH2Z"
      },
      "execution_count": 17,
      "outputs": []
    },
    {
      "cell_type": "code",
      "source": [
        "flights.filter(flights.ORIGIN_AIRPORT == 'PDX').groupBy().min('DISTANCE').show()\n",
        "\n",
        "flights.filter(flights.ORIGIN_AIRPORT == 'SEA').groupBy().max('AIR_TIME').show()"
      ],
      "metadata": {
        "execution": {
          "iopub.status.busy": "2022-04-27T13:33:37.621578Z",
          "iopub.execute_input": "2022-04-27T13:33:37.621868Z",
          "iopub.status.idle": "2022-04-27T13:33:57.028071Z",
          "shell.execute_reply.started": "2022-04-27T13:33:37.62182Z",
          "shell.execute_reply": "2022-04-27T13:33:57.027196Z"
        },
        "trusted": true,
        "colab": {
          "base_uri": "https://localhost:8080/"
        },
        "id": "6z41JNayqH2Z",
        "outputId": "fb18ba9e-d7f6-4ed5-90db-804a6d425374"
      },
      "execution_count": 18,
      "outputs": [
        {
          "output_type": "stream",
          "name": "stdout",
          "text": [
            "+-------------+\n",
            "|min(DISTANCE)|\n",
            "+-------------+\n",
            "|        129.0|\n",
            "+-------------+\n",
            "\n",
            "+-------------+\n",
            "|max(AIR_TIME)|\n",
            "+-------------+\n",
            "|          411|\n",
            "+-------------+\n",
            "\n"
          ]
        }
      ]
    },
    {
      "cell_type": "code",
      "source": [
        "by_plane = flights.groupBy(\"TAIL_NUMBER\")\n",
        "\n",
        "by_plane.count().show(10)\n",
        "\n",
        "by_origin = flights.groupBy(\"ORIGIN_AIRPORT\")\n",
        "\n",
        "by_origin.avg(\"AIR_TIME\").show(10)"
      ],
      "metadata": {
        "execution": {
          "iopub.status.busy": "2022-04-27T13:33:57.029226Z",
          "iopub.execute_input": "2022-04-27T13:33:57.029521Z",
          "iopub.status.idle": "2022-04-27T13:34:22.723415Z",
          "shell.execute_reply.started": "2022-04-27T13:33:57.029473Z",
          "shell.execute_reply": "2022-04-27T13:34:22.722489Z"
        },
        "trusted": true,
        "colab": {
          "base_uri": "https://localhost:8080/"
        },
        "id": "pNM1EbCQqH2a",
        "outputId": "3780756b-4ff6-4b1a-a96d-3da738f4d5c0"
      },
      "execution_count": 19,
      "outputs": [
        {
          "output_type": "stream",
          "name": "stdout",
          "text": [
            "+-----------+-----+\n",
            "|TAIL_NUMBER|count|\n",
            "+-----------+-----+\n",
            "|     N38451|  122|\n",
            "|     N567AA|  203|\n",
            "|     N623NK|  218|\n",
            "|     N442AS|  151|\n",
            "|     N902DE|  200|\n",
            "|     N4YUAA|  154|\n",
            "|     N466SW|  315|\n",
            "|     N516UA|   98|\n",
            "|     N866AS|  350|\n",
            "|     N499AA|  172|\n",
            "+-----------+-----+\n",
            "only showing top 10 rows\n",
            "\n",
            "+--------------+------------------+\n",
            "|ORIGIN_AIRPORT|     avg(AIR_TIME)|\n",
            "+--------------+------------------+\n",
            "|           BGM|             67.72|\n",
            "|           PSE|187.33962264150944|\n",
            "|           INL|  32.6144578313253|\n",
            "|           MSY|102.48633257403189|\n",
            "|           PPG|             308.0|\n",
            "|           GEG| 81.95990747879722|\n",
            "|           SNA|104.96842316975061|\n",
            "|           BUR| 68.93810073048827|\n",
            "|           GRB|48.697463768115945|\n",
            "|           GTF|  74.1288888888889|\n",
            "+--------------+------------------+\n",
            "only showing top 10 rows\n",
            "\n"
          ]
        }
      ]
    },
    {
      "cell_type": "code",
      "source": [
        "import pyspark.sql.functions as F\n",
        "\n",
        "flights = flights.withColumn(\"DEPARTURE_DELAY\", flights.DEPARTURE_DELAY.cast(\"integer\"))\n",
        "\n",
        "by_month_dest = flights.groupBy('MONTH', 'DESTINATION_AIRPORT')\n",
        "\n",
        "by_month_dest.avg('DEPARTURE_DELAY').show(10)\n",
        "\n",
        "by_month_dest.agg(F.stddev('DEPARTURE_DELAY')).show(10)"
      ],
      "metadata": {
        "execution": {
          "iopub.status.busy": "2022-04-27T13:34:22.724649Z",
          "iopub.execute_input": "2022-04-27T13:34:22.724928Z",
          "iopub.status.idle": "2022-04-27T13:34:49.498745Z",
          "shell.execute_reply.started": "2022-04-27T13:34:22.724881Z",
          "shell.execute_reply": "2022-04-27T13:34:49.4979Z"
        },
        "trusted": true,
        "colab": {
          "base_uri": "https://localhost:8080/"
        },
        "id": "Lg3jryPBqH2a",
        "outputId": "55dabdfc-0698-49ea-dbc5-4349076c5057"
      },
      "execution_count": 20,
      "outputs": [
        {
          "output_type": "stream",
          "name": "stdout",
          "text": [
            "+-----+-------------------+--------------------+\n",
            "|MONTH|DESTINATION_AIRPORT|avg(DEPARTURE_DELAY)|\n",
            "+-----+-------------------+--------------------+\n",
            "|    1|                ACY|    8.33433734939759|\n",
            "|    1|                EYW|   6.551440329218107|\n",
            "|    1|                OME|                0.05|\n",
            "|    1|                RDM|   9.701863354037267|\n",
            "|    1|                TWF|  -4.711864406779661|\n",
            "|    2|                AVP|   6.350877192982456|\n",
            "|    1|                AEX|    4.98932384341637|\n",
            "|    1|                GNV|   6.982062780269058|\n",
            "|    1|                PIB|   2.150943396226415|\n",
            "|    1|                YAK|  -3.466666666666667|\n",
            "+-----+-------------------+--------------------+\n",
            "only showing top 10 rows\n",
            "\n",
            "+-----+-------------------+----------------------------+\n",
            "|MONTH|DESTINATION_AIRPORT|stddev_samp(DEPARTURE_DELAY)|\n",
            "+-----+-------------------+----------------------------+\n",
            "|    1|                ACY|           32.81265545745788|\n",
            "|    1|                EYW|           63.65052137951282|\n",
            "|    1|                OME|          19.546923118225806|\n",
            "|    1|                RDM|          34.260918828983726|\n",
            "|    1|                TWF|           7.985009333135624|\n",
            "|    2|                AVP|          17.444290130164752|\n",
            "|    1|                AEX|          21.823559351202647|\n",
            "|    1|                GNV|           27.69378310655295|\n",
            "|    1|                PIB|          33.011301227129366|\n",
            "|    1|                YAK|          28.467326895319328|\n",
            "+-----+-------------------+----------------------------+\n",
            "only showing top 10 rows\n",
            "\n"
          ]
        }
      ]
    },
    {
      "cell_type": "code",
      "source": [
        "print(airports.columns)\n",
        "\n",
        "print(airports.show(10))"
      ],
      "metadata": {
        "execution": {
          "iopub.status.busy": "2022-04-27T13:34:49.499882Z",
          "iopub.execute_input": "2022-04-27T13:34:49.500164Z",
          "iopub.status.idle": "2022-04-27T13:34:49.607893Z",
          "shell.execute_reply.started": "2022-04-27T13:34:49.500114Z",
          "shell.execute_reply": "2022-04-27T13:34:49.606955Z"
        },
        "trusted": true,
        "colab": {
          "base_uri": "https://localhost:8080/"
        },
        "id": "BN_csixlqH2a",
        "outputId": "0fb80b97-0667-4892-dcb2-24953fe9db95"
      },
      "execution_count": 21,
      "outputs": [
        {
          "output_type": "stream",
          "name": "stdout",
          "text": [
            "['IATA_CODE', 'AIRPORT', 'CITY', 'STATE', 'COUNTRY', 'LATITUDE', 'LONGITUDE']\n",
            "+---------+--------------------+-------------+-----+-------+--------+----------+\n",
            "|IATA_CODE|             AIRPORT|         CITY|STATE|COUNTRY|LATITUDE| LONGITUDE|\n",
            "+---------+--------------------+-------------+-----+-------+--------+----------+\n",
            "|      ABE|Lehigh Valley Int...|    Allentown|   PA|    USA|40.65236| -75.44040|\n",
            "|      ABI|Abilene Regional ...|      Abilene|   TX|    USA|32.41132| -99.68190|\n",
            "|      ABQ|Albuquerque Inter...|  Albuquerque|   NM|    USA|35.04022|-106.60919|\n",
            "|      ABR|Aberdeen Regional...|     Aberdeen|   SD|    USA|45.44906| -98.42183|\n",
            "|      ABY|Southwest Georgia...|       Albany|   GA|    USA|31.53552| -84.19447|\n",
            "|      ACK|Nantucket Memoria...|    Nantucket|   MA|    USA|41.25305| -70.06018|\n",
            "|      ACT|Waco Regional Air...|         Waco|   TX|    USA|31.61129| -97.23052|\n",
            "|      ACV|      Arcata Airport|Arcata/Eureka|   CA|    USA|40.97812|-124.10862|\n",
            "|      ACY|Atlantic City Int...|Atlantic City|   NJ|    USA|39.45758| -74.57717|\n",
            "|      ADK|        Adak Airport|         Adak|   AK|    USA|51.87796|-176.64603|\n",
            "+---------+--------------------+-------------+-----+-------+--------+----------+\n",
            "only showing top 10 rows\n",
            "\n",
            "None\n"
          ]
        }
      ]
    },
    {
      "cell_type": "code",
      "source": [
        "airports = airports.withColumnRenamed(\"IATA_CODE\", \"DESTINATION_AIRPORT\")\n",
        "\n",
        "flights_with_airports = flights.join(airports , on = 'DESTINATION_AIRPORT', how = 'leftouter')\n",
        "\n",
        "print(flights_with_airports.columns)\n",
        "print(flights_with_airports.count())"
      ],
      "metadata": {
        "execution": {
          "iopub.status.busy": "2022-04-27T13:34:49.609047Z",
          "iopub.execute_input": "2022-04-27T13:34:49.609333Z",
          "iopub.status.idle": "2022-04-27T13:35:01.31041Z",
          "shell.execute_reply.started": "2022-04-27T13:34:49.609271Z",
          "shell.execute_reply": "2022-04-27T13:35:01.309466Z"
        },
        "trusted": true,
        "colab": {
          "base_uri": "https://localhost:8080/"
        },
        "id": "uQONpnJKqH2a",
        "outputId": "0775f84c-6af9-4bdb-d3e6-7aab911bcbf5"
      },
      "execution_count": 22,
      "outputs": [
        {
          "output_type": "stream",
          "name": "stdout",
          "text": [
            "['DESTINATION_AIRPORT', 'YEAR', 'MONTH', 'DAY', 'DAY_OF_WEEK', 'AIRLINE', 'FLIGHT_NUMBER', 'TAIL_NUMBER', 'ORIGIN_AIRPORT', 'SCHEDULED_DEPARTURE', 'DEPARTURE_TIME', 'DEPARTURE_DELAY', 'TAXI_OUT', 'WHEELS_OFF', 'SCHEDULED_TIME', 'ELAPSED_TIME', 'AIR_TIME', 'DISTANCE', 'WHEELS_ON', 'TAXI_IN', 'SCHEDULED_ARRIVAL', 'ARRIVAL_TIME', 'ARRIVAL_DELAY', 'DIVERTED', 'CANCELLED', 'CANCELLATION_REASON', 'AIR_SYSTEM_DELAY', 'SECURITY_DELAY', 'AIRLINE_DELAY', 'LATE_AIRCRAFT_DELAY', 'WEATHER_DELAY', 'duration_hrs', 'AIRPORT', 'CITY', 'STATE', 'COUNTRY', 'LATITUDE', 'LONGITUDE']\n",
            "738906\n"
          ]
        }
      ]
    },
    {
      "cell_type": "code",
      "source": [
        "flights_with_airports.select('FLIGHT_NUMBER', 'AIRPORT', 'CITY', 'STATE', 'COUNTRY', 'LATITUDE', 'LONGITUDE').show(10)"
      ],
      "metadata": {
        "execution": {
          "iopub.status.busy": "2022-04-27T13:35:01.311622Z",
          "iopub.execute_input": "2022-04-27T13:35:01.311906Z",
          "iopub.status.idle": "2022-04-27T13:35:01.646654Z",
          "shell.execute_reply.started": "2022-04-27T13:35:01.311857Z",
          "shell.execute_reply": "2022-04-27T13:35:01.64581Z"
        },
        "trusted": true,
        "colab": {
          "base_uri": "https://localhost:8080/"
        },
        "id": "ILHjHDpkqH2a",
        "outputId": "38f5cc6f-ae1c-4264-8786-d0ded9e30fd1"
      },
      "execution_count": 23,
      "outputs": [
        {
          "output_type": "stream",
          "name": "stdout",
          "text": [
            "+-------------+--------------------+-----------------+-----+-------+--------+----------+\n",
            "|FLIGHT_NUMBER|             AIRPORT|             CITY|STATE|COUNTRY|LATITUDE| LONGITUDE|\n",
            "+-------------+--------------------+-----------------+-----+-------+--------+----------+\n",
            "|           98|Seattle-Tacoma In...|          Seattle|   WA|    USA|47.44898|-122.30931|\n",
            "|         2336|Palm Beach Intern...|  West Palm Beach|   FL|    USA|26.68316| -80.09559|\n",
            "|          840|Charlotte Douglas...|        Charlotte|   NC|    USA|35.21401| -80.94313|\n",
            "|          258|Miami Internation...|            Miami|   FL|    USA|25.79325| -80.29056|\n",
            "|          135|Ted Stevens Ancho...|        Anchorage|   AK|    USA|61.17432|-149.99619|\n",
            "|          806|Minneapolis-Saint...|      Minneapolis|   MN|    USA|44.88055| -93.21692|\n",
            "|          612|Minneapolis-Saint...|      Minneapolis|   MN|    USA|44.88055| -93.21692|\n",
            "|         2013|Charlotte Douglas...|        Charlotte|   NC|    USA|35.21401| -80.94313|\n",
            "|         1112|Dallas/Fort Worth...|Dallas-Fort Worth|   TX|    USA|32.89595| -97.03720|\n",
            "|         1173|Hartsfield-Jackso...|          Atlanta|   GA|    USA|33.64044| -84.42694|\n",
            "+-------------+--------------------+-----------------+-----+-------+--------+----------+\n",
            "only showing top 10 rows\n",
            "\n"
          ]
        }
      ]
    },
    {
      "cell_type": "code",
      "source": [
        "airlines = spark.read.csv('airlines.csv', header = True)\n",
        "\n",
        "print((airlines.count(), len(airlines.columns)))\n",
        "\n",
        "airlines.show()"
      ],
      "metadata": {
        "execution": {
          "iopub.status.busy": "2022-04-27T13:35:01.647794Z",
          "iopub.execute_input": "2022-04-27T13:35:01.648066Z",
          "iopub.status.idle": "2022-04-27T13:35:02.005702Z",
          "shell.execute_reply.started": "2022-04-27T13:35:01.648019Z",
          "shell.execute_reply": "2022-04-27T13:35:02.004772Z"
        },
        "trusted": true,
        "colab": {
          "base_uri": "https://localhost:8080/"
        },
        "id": "MQLv94tRqH2a",
        "outputId": "62d2e81a-048f-40c2-9672-0eeb4a8f690c"
      },
      "execution_count": 24,
      "outputs": [
        {
          "output_type": "stream",
          "name": "stdout",
          "text": [
            "(14, 2)\n",
            "+---------+--------------------+\n",
            "|IATA_CODE|             AIRLINE|\n",
            "+---------+--------------------+\n",
            "|       UA|United Air Lines ...|\n",
            "|       AA|American Airlines...|\n",
            "|       US|     US Airways Inc.|\n",
            "|       F9|Frontier Airlines...|\n",
            "|       B6|     JetBlue Airways|\n",
            "|       OO|Skywest Airlines ...|\n",
            "|       AS|Alaska Airlines Inc.|\n",
            "|       NK|    Spirit Air Lines|\n",
            "|       WN|Southwest Airline...|\n",
            "|       DL|Delta Air Lines Inc.|\n",
            "|       EV|Atlantic Southeas...|\n",
            "|       HA|Hawaiian Airlines...|\n",
            "|       MQ|American Eagle Ai...|\n",
            "|       VX|      Virgin America|\n",
            "+---------+--------------------+\n",
            "\n"
          ]
        }
      ]
    },
    {
      "cell_type": "code",
      "source": [
        "model_data = flights.select('MONTH', 'DAY_OF_WEEK', 'AIRLINE', 'TAIL_NUMBER', 'DESTINATION_AIRPORT', 'AIR_TIME', 'DISTANCE', 'ARRIVAL_DELAY',)\n",
        "\n",
        "model_data = model_data.filter(\"ARRIVAL_DELAY is not NULL and AIRLINE is not NULL and AIR_TIME is not NULL and TAIL_NUMBER is not NULL\")\n",
        "\n",
        "model_data.count()"
      ],
      "metadata": {
        "execution": {
          "iopub.status.busy": "2022-04-27T13:35:02.006855Z",
          "iopub.execute_input": "2022-04-27T13:35:02.007294Z",
          "iopub.status.idle": "2022-04-27T13:35:17.207611Z",
          "shell.execute_reply.started": "2022-04-27T13:35:02.007234Z",
          "shell.execute_reply": "2022-04-27T13:35:17.206748Z"
        },
        "trusted": true,
        "colab": {
          "base_uri": "https://localhost:8080/"
        },
        "id": "leFcZY04qH2b",
        "outputId": "4a9dd59f-2397-4350-b04f-bd5f4ce756e9"
      },
      "execution_count": 25,
      "outputs": [
        {
          "output_type": "execute_result",
          "data": {
            "text/plain": [
              "712986"
            ]
          },
          "metadata": {},
          "execution_count": 25
        }
      ]
    },
    {
      "cell_type": "code",
      "source": [
        "model_data = model_data.withColumn(\"is_late\", model_data.ARRIVAL_DELAY > 0)\n",
        "\n",
        "model_data = model_data.withColumn(\"is_late\", model_data.is_late.cast(\"integer\"))\n",
        "\n",
        "model_data = model_data.withColumnRenamed(\"is_late\", 'label')"
      ],
      "metadata": {
        "execution": {
          "iopub.status.busy": "2022-04-27T13:35:17.21183Z",
          "iopub.execute_input": "2022-04-27T13:35:17.214095Z",
          "iopub.status.idle": "2022-04-27T13:35:17.290016Z",
          "shell.execute_reply.started": "2022-04-27T13:35:17.214041Z",
          "shell.execute_reply": "2022-04-27T13:35:17.289032Z"
        },
        "trusted": true,
        "id": "xMXPE1CjqH2b"
      },
      "execution_count": 26,
      "outputs": []
    },
    {
      "cell_type": "code",
      "source": [
        "model_data.show(15)"
      ],
      "metadata": {
        "execution": {
          "iopub.status.busy": "2022-04-27T13:35:17.291142Z",
          "iopub.execute_input": "2022-04-27T13:35:17.291444Z",
          "iopub.status.idle": "2022-04-27T13:35:17.472338Z",
          "shell.execute_reply.started": "2022-04-27T13:35:17.291386Z",
          "shell.execute_reply": "2022-04-27T13:35:17.471424Z"
        },
        "trusted": true,
        "colab": {
          "base_uri": "https://localhost:8080/"
        },
        "id": "f4SLTxKeqH2b",
        "outputId": "2822d781-5d5a-4747-fa24-bbdbdfe10b74"
      },
      "execution_count": 27,
      "outputs": [
        {
          "output_type": "stream",
          "name": "stdout",
          "text": [
            "+-----+-----------+-------+-----------+-------------------+--------+--------+-------------+-----+\n",
            "|MONTH|DAY_OF_WEEK|AIRLINE|TAIL_NUMBER|DESTINATION_AIRPORT|AIR_TIME|DISTANCE|ARRIVAL_DELAY|label|\n",
            "+-----+-----------+-------+-----------+-------------------+--------+--------+-------------+-----+\n",
            "|    1|          4|     AS|     N407AS|                SEA|     169|  1448.0|          -22|    0|\n",
            "|    1|          4|     AA|     N3KUAA|                PBI|     263|  2330.0|           -9|    0|\n",
            "|    1|          4|     US|     N171US|                CLT|     266|  2296.0|            5|    1|\n",
            "|    1|          4|     AA|     N3HYAA|                MIA|     258|  2342.0|           -9|    0|\n",
            "|    1|          4|     AS|     N527AS|                ANC|     199|  1448.0|          -21|    0|\n",
            "|    1|          4|     DL|     N3730B|                MSP|     206|  1589.0|            8|    1|\n",
            "|    1|          4|     NK|     N635NK|                MSP|     154|  1299.0|          -17|    0|\n",
            "|    1|          4|     US|     N584UW|                CLT|     228|  2125.0|          -10|    0|\n",
            "|    1|          4|     AA|     N3LAAA|                DFW|     173|  1464.0|          -13|    0|\n",
            "|    1|          4|     DL|     N826DN|                ATL|     186|  1747.0|          -15|    0|\n",
            "|    1|          4|     DL|     N958DN|                ATL|     133|  1199.0|          -30|    0|\n",
            "|    1|          4|     AA|     N853AA|                MIA|     238|  2174.0|          -10|    0|\n",
            "|    1|          4|     DL|     N547US|                MSP|     188|  1535.0|           -4|    0|\n",
            "|    1|          4|     DL|     N3751B|                ATL|     176|  1590.0|          -22|    0|\n",
            "|    1|          4|     DL|     N651DL|                MSP|     166|  1399.0|            8|    1|\n",
            "+-----+-----------+-------+-----------+-------------------+--------+--------+-------------+-----+\n",
            "only showing top 15 rows\n",
            "\n"
          ]
        }
      ]
    },
    {
      "cell_type": "code",
      "source": [
        "print('Labels distrubution:')\n",
        "model_data.groupBy('label').count().show()"
      ],
      "metadata": {
        "execution": {
          "iopub.status.busy": "2022-04-27T13:35:17.473534Z",
          "iopub.execute_input": "2022-04-27T13:35:17.473801Z",
          "iopub.status.idle": "2022-04-27T13:35:31.999371Z",
          "shell.execute_reply.started": "2022-04-27T13:35:17.473759Z",
          "shell.execute_reply": "2022-04-27T13:35:31.998431Z"
        },
        "trusted": true,
        "colab": {
          "base_uri": "https://localhost:8080/"
        },
        "id": "gB4KdYkxqH2b",
        "outputId": "4398874d-aeb1-4231-9a80-cb7bc90d6fad"
      },
      "execution_count": 28,
      "outputs": [
        {
          "output_type": "stream",
          "name": "stdout",
          "text": [
            "Labels distrubution:\n",
            "+-----+------+\n",
            "|label| count|\n",
            "+-----+------+\n",
            "|    1|285713|\n",
            "|    0|427273|\n",
            "+-----+------+\n",
            "\n"
          ]
        }
      ]
    },
    {
      "cell_type": "code",
      "source": [
        "from pyspark.ml.feature import OneHotEncoder, StringIndexer\n",
        "from pyspark.ml.feature import HashingTF, IDF, Tokenizer\n",
        "\n",
        "airline_indexer = StringIndexer(inputCol=\"AIRLINE\", outputCol=\"airline_index\")\n",
        "\n",
        "airline_encoder = OneHotEncoder(inputCol=\"airline_index\", outputCol=\"airline_fact\")"
      ],
      "metadata": {
        "execution": {
          "iopub.status.busy": "2022-04-27T13:35:32.000605Z",
          "iopub.execute_input": "2022-04-27T13:35:32.000904Z",
          "iopub.status.idle": "2022-04-27T13:35:32.238282Z",
          "shell.execute_reply.started": "2022-04-27T13:35:32.000853Z",
          "shell.execute_reply": "2022-04-27T13:35:32.237372Z"
        },
        "trusted": true,
        "id": "WOZ26J5lqH2b"
      },
      "execution_count": 29,
      "outputs": []
    },
    {
      "cell_type": "code",
      "source": [
        "dest_indexer = StringIndexer(inputCol=\"DESTINATION_AIRPORT\", outputCol=\"dest_index\")\n",
        "\n",
        "dest_encoder = OneHotEncoder(inputCol=\"dest_index\", outputCol=\"dest_fact\")"
      ],
      "metadata": {
        "execution": {
          "iopub.status.busy": "2022-04-27T13:35:32.239482Z",
          "iopub.execute_input": "2022-04-27T13:35:32.239747Z",
          "iopub.status.idle": "2022-04-27T13:35:32.254398Z",
          "shell.execute_reply.started": "2022-04-27T13:35:32.239702Z",
          "shell.execute_reply": "2022-04-27T13:35:32.253398Z"
        },
        "trusted": true,
        "id": "eqGlMfX_qH2b"
      },
      "execution_count": 30,
      "outputs": []
    },
    {
      "cell_type": "code",
      "source": [
        "tail_indexer = StringIndexer(inputCol=\"TAIL_NUMBER\", outputCol=\"tail_index\")\n",
        "\n",
        "tail_encoder = OneHotEncoder(inputCol=\"tail_index\", outputCol=\"tail_fact\")"
      ],
      "metadata": {
        "execution": {
          "iopub.status.busy": "2022-04-27T13:35:32.255798Z",
          "iopub.execute_input": "2022-04-27T13:35:32.256241Z",
          "iopub.status.idle": "2022-04-27T13:35:32.274789Z",
          "shell.execute_reply.started": "2022-04-27T13:35:32.256186Z",
          "shell.execute_reply": "2022-04-27T13:35:32.273978Z"
        },
        "trusted": true,
        "id": "5XIJ-CD6qH2b"
      },
      "execution_count": 31,
      "outputs": []
    },
    {
      "cell_type": "markdown",
      "source": [
        "### Vector Assembler "
      ],
      "metadata": {
        "id": "3aFmEssvqH2c"
      }
    },
    {
      "cell_type": "code",
      "source": [
        "from pyspark.ml.feature import VectorAssembler\n",
        "\n",
        "vec_assembler = VectorAssembler(inputCols=[\"MONTH\", \"DAY_OF_WEEK\", \"AIR_TIME\", \"DISTANCE\", \"airline_fact\", \"dest_fact\", \"tail_fact\"], outputCol=\"features\")"
      ],
      "metadata": {
        "execution": {
          "iopub.status.busy": "2022-04-27T13:35:32.275848Z",
          "iopub.execute_input": "2022-04-27T13:35:32.276112Z",
          "iopub.status.idle": "2022-04-27T13:35:32.29985Z",
          "shell.execute_reply.started": "2022-04-27T13:35:32.276067Z",
          "shell.execute_reply": "2022-04-27T13:35:32.298869Z"
        },
        "trusted": true,
        "id": "EcACQEsnqH2c"
      },
      "execution_count": 32,
      "outputs": []
    },
    {
      "cell_type": "code",
      "source": [
        "from pyspark.ml import Pipeline\n",
        "\n",
        "flights_pipe = Pipeline(stages=[dest_indexer, dest_encoder, airline_indexer, airline_encoder, tail_indexer, tail_encoder, vec_assembler])"
      ],
      "metadata": {
        "execution": {
          "iopub.status.busy": "2022-04-27T13:35:32.307624Z",
          "iopub.execute_input": "2022-04-27T13:35:32.309862Z",
          "iopub.status.idle": "2022-04-27T13:35:32.317247Z",
          "shell.execute_reply.started": "2022-04-27T13:35:32.309807Z",
          "shell.execute_reply": "2022-04-27T13:35:32.316352Z"
        },
        "trusted": true,
        "id": "gtZfmNCPqH2c"
      },
      "execution_count": 33,
      "outputs": []
    },
    {
      "cell_type": "code",
      "source": [
        "piped_data = flights_pipe.fit(model_data).transform(model_data)"
      ],
      "metadata": {
        "execution": {
          "iopub.status.busy": "2022-04-27T13:35:32.325559Z",
          "iopub.execute_input": "2022-04-27T13:35:32.326121Z",
          "iopub.status.idle": "2022-04-27T13:36:24.205426Z",
          "shell.execute_reply.started": "2022-04-27T13:35:32.325834Z",
          "shell.execute_reply": "2022-04-27T13:36:24.204363Z"
        },
        "trusted": true,
        "id": "Er_yWIOUqH2c"
      },
      "execution_count": 34,
      "outputs": []
    },
    {
      "cell_type": "code",
      "source": [
        "train_data, test_data = piped_data.randomSplit([.7, .3])"
      ],
      "metadata": {
        "execution": {
          "iopub.status.busy": "2022-04-27T13:36:24.206976Z",
          "iopub.execute_input": "2022-04-27T13:36:24.2075Z",
          "iopub.status.idle": "2022-04-27T13:36:24.254153Z",
          "shell.execute_reply.started": "2022-04-27T13:36:24.207445Z",
          "shell.execute_reply": "2022-04-27T13:36:24.253248Z"
        },
        "trusted": true,
        "id": "1C7weMxuqH2c"
      },
      "execution_count": 35,
      "outputs": []
    },
    {
      "cell_type": "code",
      "source": [
        "print('data points(rows) in train data :',  train_data.count())\n",
        "print('data points(rows) in train data :',  test_data.count())"
      ],
      "metadata": {
        "execution": {
          "iopub.status.busy": "2022-04-27T13:36:24.25557Z",
          "iopub.execute_input": "2022-04-27T13:36:24.255837Z",
          "iopub.status.idle": "2022-04-27T13:38:31.79116Z",
          "shell.execute_reply.started": "2022-04-27T13:36:24.255793Z",
          "shell.execute_reply": "2022-04-27T13:38:31.790229Z"
        },
        "trusted": true,
        "colab": {
          "base_uri": "https://localhost:8080/"
        },
        "id": "KufjfAcxqH2c",
        "outputId": "5a6edf54-f567-4531-cdfd-a82cf9d982bf"
      },
      "execution_count": 36,
      "outputs": [
        {
          "output_type": "stream",
          "name": "stdout",
          "text": [
            "data points(rows) in train data : 499164\n",
            "data points(rows) in train data : 213822\n"
          ]
        }
      ]
    },
    {
      "cell_type": "markdown",
      "source": [
        "###Model Creation and Cross Validation\n"
      ],
      "metadata": {
        "id": "EPplM0csKtUQ"
      }
    },
    {
      "cell_type": "code",
      "source": [
        "from pyspark.ml.classification import LogisticRegression\n",
        "import pyspark.ml.evaluation as evals\n",
        "import pyspark.ml.tuning as tune\n",
        "import numpy as np\n",
        "import matplotlib.pyplot as plt\n",
        "import itertools\n",
        "from sklearn.metrics import confusion_matrix\n",
        "\n"
      ],
      "metadata": {
        "id": "YzMYOaBsENYs"
      },
      "execution_count": 43,
      "outputs": []
    },
    {
      "cell_type": "code",
      "source": [
        "# Initialize the logistic regression model\n",
        "lr = LogisticRegression()\n",
        "\n",
        "# Initialize the binary classification evaluator\n",
        "evaluator = evals.BinaryClassificationEvaluator(metricName=\"areaUnderROC\")\n",
        "\n",
        "# Set up the parameter grid for tuning\n",
        "grid = tune.ParamGridBuilder()\n",
        "grid = grid.addGrid(lr.regParam, np.arange(0, .1, .01))\n",
        "grid = grid.addGrid(lr.elasticNetParam, [0, 1])\n",
        "grid = grid.build()\n",
        "\n",
        "# Set up the cross-validator for tuning\n",
        "cv = tune.CrossValidator(estimator=lr,\n",
        "               estimatorParamMaps=grid,\n",
        "               evaluator=evaluator)\n"
      ],
      "metadata": {
        "id": "yGcrQslyIGw1"
      },
      "execution_count": 44,
      "outputs": []
    },
    {
      "cell_type": "markdown",
      "source": [
        "###Model Fitting"
      ],
      "metadata": {
        "id": "zOw0NAGoLAUF"
      }
    },
    {
      "cell_type": "code",
      "source": [
        "# Train the best logistic regression model on the training data\n",
        "best_lr = lr.fit(train_data)\n",
        "\n",
        "# Evaluate the best logistic regression model on the test data\n",
        "test_results = best_lr.transform(test_data)"
      ],
      "metadata": {
        "id": "5YJGtbyOISjU"
      },
      "execution_count": 45,
      "outputs": []
    },
    {
      "cell_type": "code",
      "source": [
        "# Compute the area under the ROC curve for the test results\n",
        "roc_auc = evaluator.evaluate(test_results)\n",
        "print(\"Area under ROC = {:.3f}\".format(roc_auc))"
      ],
      "metadata": {
        "colab": {
          "base_uri": "https://localhost:8080/"
        },
        "id": "6IYMcoCVIWbK",
        "outputId": "e67167ca-664b-451d-cd5d-919d4ebb2950"
      },
      "execution_count": 46,
      "outputs": [
        {
          "output_type": "stream",
          "name": "stdout",
          "text": [
            "Area under ROC = 0.628\n"
          ]
        }
      ]
    },
    {
      "cell_type": "markdown",
      "source": [
        "###Confusion Matrix"
      ],
      "metadata": {
        "id": "pAzbTpAcLD0_"
      }
    },
    {
      "cell_type": "code",
      "source": [
        "# Compute the confusion matrix for the test results\n",
        "y_true = test_results.select(['label']).collect()\n",
        "y_pred = test_results.select(['prediction']).collect()\n",
        "cnf_matrix = confusion_matrix(y_true, y_pred)"
      ],
      "metadata": {
        "id": "OTUGMOtJIjED"
      },
      "execution_count": 47,
      "outputs": []
    },
    {
      "cell_type": "code",
      "source": [
        "\n",
        "# Plot the confusion matrix\n",
        "plt.figure()\n",
        "plt.imshow(cnf_matrix, interpolation='nearest', cmap=plt.cm.Blues)\n",
        "plt.title(\"Confusion Matrix\")\n",
        "plt.colorbar()\n",
        "tick_marks = np.arange(2)\n",
        "plt.xticks(tick_marks, ['0', '1'])\n",
        "plt.yticks(tick_marks, ['0', '1'])\n",
        "thresh = cnf_matrix.max() / 2.\n",
        "for i, j in itertools.product(range(cnf_matrix.shape[0]), range(cnf_matrix.shape[1])):\n",
        "    plt.text(j, i, format(cnf_matrix[i, j], 'd'), horizontalalignment=\"center\", color=\"white\" if cnf_matrix[i, j] > thresh else \"black\")\n",
        "plt.ylabel('True label')\n",
        "plt.xlabel('Predicted label')\n",
        "plt.show()"
      ],
      "metadata": {
        "colab": {
          "base_uri": "https://localhost:8080/",
          "height": 472
        },
        "id": "ZZuMBxMuIldJ",
        "outputId": "327f7c22-bdb0-40f2-dcf4-99ab252bcb6d"
      },
      "execution_count": 48,
      "outputs": [
        {
          "output_type": "display_data",
          "data": {
            "text/plain": [
              "<Figure size 640x480 with 2 Axes>"
            ],
            "image/png": "[encoded data removed]"
          },
          "metadata": {}
        }
      ]
    },
    {
      "cell_type": "markdown",
      "source": [
        "Accuracy"
      ],
      "metadata": {
        "id": "ikdm6dalLIxX"
      }
    },
    {
      "cell_type": "code",
      "source": [
        "print(evaluator.evaluate(test_results))\n"
      ],
      "metadata": {
        "colab": {
          "base_uri": "https://localhost:8080/"
        },
        "id": "zXNwNiMuJxDd",
        "outputId": "c88e9935-bdc1-4271-aaf4-6048065c8747"
      },
      "execution_count": 49,
      "outputs": [
        {
          "output_type": "stream",
          "name": "stdout",
          "text": [
            "0.6276458352999773\n"
          ]
        }
      ]
    }
  ]
}